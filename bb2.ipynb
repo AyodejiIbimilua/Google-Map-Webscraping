{
 "cells": [
  {
   "cell_type": "code",
   "execution_count": 4,
   "id": "d181d156",
   "metadata": {},
   "outputs": [],
   "source": [
    "from selenium.webdriver import Firefox, Chrome\n",
    "#from selenium.webdriver.firefox.options import Options\n",
    "from selenium.webdriver.firefox.options import Options\n",
    "from selenium.common.exceptions import TimeoutException, WebDriverException\n",
    "from selenium.webdriver.support.ui import WebDriverWait\n",
    "from selenium.webdriver.support import expected_conditions as EC\n",
    "from selenium.common.exceptions import TimeoutException, WebDriverException, NoSuchElementException, StaleElementReferenceException\n",
    "from selenium.webdriver.common.by import By\n",
    "import numpy as np\n",
    "from selenium.webdriver.common.action_chains import ActionChains\n",
    "from pandas.core.common import flatten\n",
    "import time \n",
    "from selenium.common.exceptions import TimeoutException\n",
    "import math\n",
    "from tqdm import tqdm_notebook as tqdmn\n",
    "import pandas as pd\n",
    "from selenium.webdriver.common.keys import Keys\n",
    "from selenium import webdriver\n",
    "from bs4 import BeautifulSoup\n",
    "options = Options()\n",
    "options.page_load_strategy = 'eager'\n",
    "#options.headless = True\n",
    "options.add_argument(\"--start-maximized\")\n",
    "options.add_argument(\"--disable-infobars\")\n",
    "options.add_argument(\"--disable-extensions\")\n",
    "#options.add_argument(\"--headless\")"
   ]
  },
  {
   "cell_type": "code",
   "execution_count": 5,
   "id": "f3383691",
   "metadata": {},
   "outputs": [],
   "source": [
    "#browser = Chrome(executable_path=\"C:\\\\Users\\\\USER\\\\Downloads\\\\chromedriver_win32\\\\chromedriver.exe\", options=options)\n",
    "driver = Firefox(options = options)"
   ]
  },
  {
   "cell_type": "code",
   "execution_count": 33,
   "id": "5e561f8e",
   "metadata": {},
   "outputs": [],
   "source": [
    "full_link = []\n",
    "search_url = 'https://www.google.com/maps/search/' + \"Takeout\" + \" \" + \"Mohandessin, Egypt\"\n",
    "\n",
    "driver.get(search_url)\n",
    "driver.implicitly_wait(7)"
   ]
  },
  {
   "cell_type": "code",
   "execution_count": 34,
   "id": "67b6aaff",
   "metadata": {},
   "outputs": [],
   "source": [
    "enabled = \"false\"\n",
    "\n",
    "while enabled != \"true\":\n",
    "    fb = False\n",
    "    \n",
    "    for i in [1,2,3,4]:\n",
    "        try:\n",
    "            element = driver.find_element_by_xpath(\"//*[@jsan='7.a4gq8e-aVTXAb-haAclf-jRmmHf-hSRGPd,0.aria-label,8.href,0.jsaction'][last()]\")\n",
    "            element.send_keys(Keys.PAGE_DOWN)\n",
    "            time.sleep(2)\n",
    "        except:\n",
    "            fb = True\n",
    "            break\n",
    "            \n",
    "    if fb:\n",
    "        break\n",
    "       \n",
    "    link_tx = driver.find_elements_by_xpath(\"//a[@jsan='7.a4gq8e-aVTXAb-haAclf-jRmmHf-hSRGPd,0.aria-label,8.href,0.jsaction']\")\n",
    "    try:\n",
    "        links = [i.get_attribute(\"href\") for i in link_tx]\n",
    "    except StaleElementReferenceException:\n",
    "        link_tx = driver.find_elements_by_xpath(\"//a[@jsan='7.a4gq8e-aVTXAb-haAclf-jRmmHf-hSRGPd,0.aria-label,8.href,0.jsaction']\")\n",
    "        links = [i.get_attribute(\"href\") for i in link_tx]\n",
    "        \n",
    "    for k in links:\n",
    "        full_link.append(k)\n",
    "        \n",
    "    try:\n",
    "        np = driver.find_element_by_xpath('//button[@id=\"ppdPk-Ej1Yeb-LgbsSe-tJiF1e\"]')\n",
    "        np.click()\n",
    "        #driver.implicitly_wait(3)\n",
    "        time.sleep(2)\n",
    "    except:\n",
    "        enabled = np.get_attribute(\"disabled\")"
   ]
  },
  {
   "cell_type": "code",
   "execution_count": 37,
   "id": "8a45bcb9",
   "metadata": {},
   "outputs": [],
   "source": [
    "full_name = []\n",
    "rating = []    \n",
    "total_ratings = []\n",
    "business_cat = []\n",
    "address = []\n",
    "phone = []\n",
    "website = []\n",
    "lat = []\n",
    "long = []\n",
    "price_range = []\n",
    "review_topics = []\n",
    "landmark_cat = []\n",
    "description = []    \n",
    "hours = []\n",
    "\n",
    "count = 0"
   ]
  },
  {
   "cell_type": "code",
   "execution_count": 38,
   "id": "5ec99a60",
   "metadata": {},
   "outputs": [],
   "source": [
    "full_link = set(full_link)"
   ]
  },
  {
   "cell_type": "code",
   "execution_count": 39,
   "id": "3241effc",
   "metadata": {},
   "outputs": [
    {
     "data": {
      "text/plain": [
       "263"
      ]
     },
     "execution_count": 39,
     "metadata": {},
     "output_type": "execute_result"
    }
   ],
   "source": [
    "len(full_link)"
   ]
  },
  {
   "cell_type": "code",
   "execution_count": 22,
   "id": "c5e1b208",
   "metadata": {},
   "outputs": [],
   "source": [
    "import numpy as np"
   ]
  },
  {
   "cell_type": "code",
   "execution_count": 28,
   "id": "7694c6f5",
   "metadata": {},
   "outputs": [
    {
     "name": "stdout",
     "output_type": "stream",
     "text": [
      "=============\n",
      "150 of 149\n",
      "=============\n",
      "151 of 149\n",
      "=============\n",
      "152 of 149\n",
      "=============\n",
      "153 of 149\n"
     ]
    }
   ],
   "source": [
    "for business in list(full_link):\n",
    "\n",
    "    driver.get(business)\n",
    "    count += 1\n",
    "    print(\"=============\")\n",
    "    print(\"{} of {}\".format(count, len(full_link)))\n",
    "\n",
    "    #driver.implicitly_wait(5)\n",
    "    time.sleep(4)\n",
    "    driver.execute_script(\"window.scrollTo(0, document.body.scrollHeight);\")\n",
    "          \n",
    "    try:\n",
    "        full_name.append(driver.find_element_by_xpath(\"//*[@jsan='7.x3AX1-LfntMc-header-title-title,7.gm2-headline-5']\").get_attribute(\"textContent\"))\n",
    "    except NoSuchElementException :\n",
    "        full_name.append(np.nan)\n",
    "        \n",
    "    try:\n",
    "        rating.append(driver.find_element_by_xpath(\"/html/body/div[3]/div[9]/div[8]/div/div[1]/div/div/div[2]/div[1]/div[1]/div[2]/div/div[1]/div[2]/span/span/span\").text)\n",
    "    except NoSuchElementException :\n",
    "        rating.append(np.nan)\n",
    "\n",
    "    try:\n",
    "        total_ratings.append(driver.find_element_by_xpath('//*[@id=\"pane\"]/div/div[1]/div/div/div[2]/div[1]/div[1]/div[2]/div/div[1]/span[1]/span/span[1]/span[2]/span[1]/button').text)\n",
    "    except NoSuchElementException:\n",
    "        total_ratings.append(np.nan)\n",
    "\n",
    "    try:\n",
    "        business_cat.append(driver.find_element_by_xpath('/html/body/div[3]/div[9]/div[8]/div/div[1]/div/div/div[2]/div[1]/div[1]/div[2]/div/div[2]/span[1]/span[1]/button').text)\n",
    "    except NoSuchElementException:\n",
    "        business_cat.append(np.nan)\n",
    "\n",
    "    try:\n",
    "        address.append(driver.find_element_by_xpath(\"//*[@data-item-id='address']\").text)\n",
    "    except NoSuchElementException :\n",
    "        address.append(np.nan)\n",
    "\n",
    "    try:\n",
    "        phone.append(driver.find_element_by_xpath(\"//*[@data-tooltip='Copy phone number']\").text)\n",
    "    except NoSuchElementException :\n",
    "        phone.append(np.nan)\n",
    "\n",
    "    try:\n",
    "        website.append(driver.find_element_by_xpath(\"//button[@data-item-id='authority']/div/div[2]/div[1]\").text)\n",
    "    except NoSuchElementException :\n",
    "        website.append(np.nan)\n",
    "\n",
    "    try:\n",
    "        description.append(driver.find_element_by_xpath(\"//button[@jsan='7.uxOu9-sTGRBb,7.gm2-body-2,t-r7V54kIycW4,7.uxOu9-sTGRBb-LgbsSe,7.NIyLF-haAclf,0.jstrack,0.ved,0.vet,22.jsaction']\").text)\n",
    "    except NoSuchElementException:\n",
    "        description.append(np.nan\n",
    "                          )\n",
    "\n",
    "    try:\n",
    "        coordinates = driver.current_url\n",
    "        coordinates = coordinates.split(\"/@\")[1].split(\",\")\n",
    "        lat.append(coordinates[0])\n",
    "        long.append(coordinates[1])\n",
    "    except:\n",
    "        lat.append(np.nan)\n",
    "        long.append(np.nan)\n",
    "\n",
    "    try:\n",
    "        price_range.append(driver.find_element_by_xpath(\"//span[@jsan='7.gm2-headline-6,7.Cbys4b']\").text)\n",
    "    except NoSuchElementException:\n",
    "        price_range.append(np.nan)\n",
    "\n",
    "    try:\n",
    "        review_topics.append([i.text for i in driver.find_elements_by_xpath(\"//*[contains(@aria-label, 'mentioned')]\")])\n",
    "    except NoSuchElementException :\n",
    "        review_topics.append(np.nan)\n",
    "        \n",
    "    try:\n",
    "        landmark_cat.append(driver.find_element_by_xpath('//*[@id=\"pane\"]/div/div[1]/div/div/div[2]/div[1]/div[2]/div/div[2]/span[1]/span[1]/button').text)\n",
    "    except NoSuchElementException:\n",
    "        landmark_cat.append(np.nan)\n",
    "\n",
    "    # Here we capture the popular hours for all 7 days starting with Sunday :\n",
    "    try:\n",
    "        hours.append([i.get_attribute('aria-label') for i in driver.find_elements_by_xpath(\"//*[contains(@aria-label, 'busy at')]\")])\n",
    "    except NoSuchElementException:\n",
    "        hours.append(np.nan)\n"
   ]
  },
  {
   "cell_type": "code",
   "execution_count": 29,
   "id": "8abec88b",
   "metadata": {},
   "outputs": [],
   "source": [
    "dataframe = pd.DataFrame(data={'full_name':full_name, 'rating':rating, 'total_ratings':total_ratings, \n",
    "                               'business_category': business_cat, 'landmark_category':landmark_cat, \n",
    "                               'address': address, 'phone': phone, 'website': website, \"lattitude\": lat, \"longitude\": long,\n",
    "                               \"price_range\": price_range, \"review_topics\": review_topics,\n",
    "                               'description':description, 'hours':hours})\n",
    "\n",
    "dataframe.to_csv(\"takeout.csv\", index=False)"
   ]
  },
  {
   "cell_type": "code",
   "execution_count": null,
   "id": "65bff882",
   "metadata": {},
   "outputs": [],
   "source": [
    "driver.close()\n",
    "driver.quit()"
   ]
  }
 ],
 "metadata": {
  "kernelspec": {
   "display_name": "Python 3",
   "language": "python",
   "name": "python3"
  },
  "language_info": {
   "codemirror_mode": {
    "name": "ipython",
    "version": 3
   },
   "file_extension": ".py",
   "mimetype": "text/x-python",
   "name": "python",
   "nbconvert_exporter": "python",
   "pygments_lexer": "ipython3",
   "version": "3.9.5"
  }
 },
 "nbformat": 4,
 "nbformat_minor": 5
}
